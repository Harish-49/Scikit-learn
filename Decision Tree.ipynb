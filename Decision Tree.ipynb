{
 "cells": [
  {
   "cell_type": "code",
   "execution_count": 11,
   "metadata": {},
   "outputs": [],
   "source": [
    "import numpy as np\n",
    "import pandas as pd\n",
    "import matplotlib.pyplot as plt\n",
    "from sklearn.tree import DecisionTreeClassifier\n",
    "from sklearn.model_selection import train_test_split\n",
    "from sklearn.metrics import mean_absolute_error as mae,median_absolute_error as mee,classification_report as cr,accuracy_score as ac"
   ]
  },
  {
   "cell_type": "code",
   "execution_count": 111,
   "metadata": {},
   "outputs": [],
   "source": [
    "from sklearn import datasets \n",
    "wine = datasets.load_wine()"
   ]
  },
  {
   "cell_type": "code",
   "execution_count": 112,
   "metadata": {},
   "outputs": [
    {
     "data": {
      "text/plain": [
       "array([[1.423e+01, 1.710e+00, 2.430e+00, ..., 1.040e+00, 3.920e+00,\n",
       "        1.065e+03],\n",
       "       [1.320e+01, 1.780e+00, 2.140e+00, ..., 1.050e+00, 3.400e+00,\n",
       "        1.050e+03],\n",
       "       [1.316e+01, 2.360e+00, 2.670e+00, ..., 1.030e+00, 3.170e+00,\n",
       "        1.185e+03],\n",
       "       ...,\n",
       "       [1.327e+01, 4.280e+00, 2.260e+00, ..., 5.900e-01, 1.560e+00,\n",
       "        8.350e+02],\n",
       "       [1.317e+01, 2.590e+00, 2.370e+00, ..., 6.000e-01, 1.620e+00,\n",
       "        8.400e+02],\n",
       "       [1.413e+01, 4.100e+00, 2.740e+00, ..., 6.100e-01, 1.600e+00,\n",
       "        5.600e+02]])"
      ]
     },
     "execution_count": 112,
     "metadata": {},
     "output_type": "execute_result"
    }
   ],
   "source": [
    "x=wine.data\n",
    "x"
   ]
  },
  {
   "cell_type": "code",
   "execution_count": 113,
   "metadata": {},
   "outputs": [
    {
     "data": {
      "text/plain": [
       "array([0, 0, 0, 0, 0, 0, 0, 0, 0, 0, 0, 0, 0, 0, 0, 0, 0, 0, 0, 0, 0, 0,\n",
       "       0, 0, 0, 0, 0, 0, 0, 0, 0, 0, 0, 0, 0, 0, 0, 0, 0, 0, 0, 0, 0, 0,\n",
       "       0, 0, 0, 0, 0, 0, 0, 0, 0, 0, 0, 0, 0, 0, 0, 1, 1, 1, 1, 1, 1, 1,\n",
       "       1, 1, 1, 1, 1, 1, 1, 1, 1, 1, 1, 1, 1, 1, 1, 1, 1, 1, 1, 1, 1, 1,\n",
       "       1, 1, 1, 1, 1, 1, 1, 1, 1, 1, 1, 1, 1, 1, 1, 1, 1, 1, 1, 1, 1, 1,\n",
       "       1, 1, 1, 1, 1, 1, 1, 1, 1, 1, 1, 1, 1, 1, 1, 1, 1, 1, 1, 1, 2, 2,\n",
       "       2, 2, 2, 2, 2, 2, 2, 2, 2, 2, 2, 2, 2, 2, 2, 2, 2, 2, 2, 2, 2, 2,\n",
       "       2, 2, 2, 2, 2, 2, 2, 2, 2, 2, 2, 2, 2, 2, 2, 2, 2, 2, 2, 2, 2, 2,\n",
       "       2, 2])"
      ]
     },
     "execution_count": 113,
     "metadata": {},
     "output_type": "execute_result"
    }
   ],
   "source": [
    "y=wine.target\n",
    "y"
   ]
  },
  {
   "cell_type": "code",
   "execution_count": 114,
   "metadata": {},
   "outputs": [
    {
     "name": "stdout",
     "output_type": "stream",
     "text": [
      "(178, 13)\n",
      "(178,)\n"
     ]
    }
   ],
   "source": [
    "print(x.shape)\n",
    "print(y.shape)"
   ]
  },
  {
   "cell_type": "code",
   "execution_count": 115,
   "metadata": {},
   "outputs": [
    {
     "data": {
      "text/plain": [
       "['alcohol',\n",
       " 'malic_acid',\n",
       " 'ash',\n",
       " 'alcalinity_of_ash',\n",
       " 'magnesium',\n",
       " 'total_phenols',\n",
       " 'flavanoids',\n",
       " 'nonflavanoid_phenols',\n",
       " 'proanthocyanins',\n",
       " 'color_intensity',\n",
       " 'hue',\n",
       " 'od280/od315_of_diluted_wines',\n",
       " 'proline']"
      ]
     },
     "execution_count": 115,
     "metadata": {},
     "output_type": "execute_result"
    }
   ],
   "source": [
    "wine.feature_names"
   ]
  },
  {
   "cell_type": "code",
   "execution_count": 116,
   "metadata": {},
   "outputs": [
    {
     "data": {
      "text/plain": [
       "array(['class_0', 'class_1', 'class_2'], dtype='<U7')"
      ]
     },
     "execution_count": 116,
     "metadata": {},
     "output_type": "execute_result"
    }
   ],
   "source": [
    "wine.target_names"
   ]
  },
  {
   "cell_type": "code",
   "execution_count": 117,
   "metadata": {},
   "outputs": [],
   "source": [
    "x_train,x_test,y_train,y_test=train_test_split(x,y,train_size=0.8,random_state=100)"
   ]
  },
  {
   "cell_type": "code",
   "execution_count": 118,
   "metadata": {},
   "outputs": [],
   "source": [
    "clf=DecisionTreeClassifier(criterion=\"entropy\",max_depth=2,min_samples_leaf=3,random_state=100)"
   ]
  },
  {
   "cell_type": "code",
   "execution_count": 119,
   "metadata": {},
   "outputs": [
    {
     "data": {
      "text/plain": [
       "DecisionTreeClassifier(criterion='entropy', max_depth=2, min_samples_leaf=3,\n",
       "                       random_state=100)"
      ]
     },
     "execution_count": 119,
     "metadata": {},
     "output_type": "execute_result"
    }
   ],
   "source": [
    "clf.fit(x_train,y_train)"
   ]
  },
  {
   "cell_type": "code",
   "execution_count": 120,
   "metadata": {},
   "outputs": [
    {
     "data": {
      "text/plain": [
       "array([1, 2, 0, 0, 1, 1, 1, 1, 1, 0, 2, 1, 2, 2, 2, 0, 2, 0, 1, 0, 1, 0,\n",
       "       1, 1, 0, 0, 1, 1, 1, 2, 2, 1, 0, 1, 2, 1])"
      ]
     },
     "execution_count": 120,
     "metadata": {},
     "output_type": "execute_result"
    }
   ],
   "source": [
    "y_pre=clf.predict(x_test)\n",
    "y_pre"
   ]
  },
  {
   "cell_type": "code",
   "execution_count": 121,
   "metadata": {},
   "outputs": [
    {
     "data": {
      "text/plain": [
       "83.33333333333334"
      ]
     },
     "execution_count": 121,
     "metadata": {},
     "output_type": "execute_result"
    }
   ],
   "source": [
    "ac(y_test,y_pre)*100"
   ]
  },
  {
   "cell_type": "code",
   "execution_count": 122,
   "metadata": {},
   "outputs": [
    {
     "data": {
      "text/plain": [
       "array([[1.164000e+01, 2.060000e+00, 2.460000e+00, 2.160000e+01,\n",
       "        8.400000e+01, 1.950000e+00, 1.690000e+00, 4.800000e-01,\n",
       "        1.350000e+00, 2.800000e+00, 1.000000e+00, 2.750000e+00,\n",
       "        6.800000e+02],\n",
       "       [1.348000e+01, 1.670000e+00, 2.640000e+00, 2.250000e+01,\n",
       "        8.900000e+01, 2.600000e+00, 1.100000e+00, 5.200000e-01,\n",
       "        2.290000e+00, 1.175000e+01, 5.700000e-01, 1.780000e+00,\n",
       "        6.200000e+02],\n",
       "       [1.412000e+01, 1.480000e+00, 2.320000e+00, 1.680000e+01,\n",
       "        9.500000e+01, 2.200000e+00, 2.430000e+00, 2.600000e-01,\n",
       "        1.570000e+00, 5.000000e+00, 1.170000e+00, 2.820000e+00,\n",
       "        1.280000e+03],\n",
       "       [1.196000e+01, 1.090000e+00, 2.300000e+00, 2.100000e+01,\n",
       "        1.010000e+02, 3.380000e+00, 2.140000e+00, 1.300000e-01,\n",
       "        1.650000e+00, 3.210000e+00, 9.900000e-01, 3.130000e+00,\n",
       "        8.860000e+02],\n",
       "       [1.434000e+01, 1.680000e+00, 2.700000e+00, 2.500000e+01,\n",
       "        9.800000e+01, 2.800000e+00, 1.310000e+00, 5.300000e-01,\n",
       "        2.700000e+00, 1.300000e+01, 5.700000e-01, 1.960000e+00,\n",
       "        6.600000e+02],\n",
       "       [1.308000e+01, 3.900000e+00, 2.360000e+00, 2.150000e+01,\n",
       "        1.130000e+02, 1.410000e+00, 1.390000e+00, 3.400000e-01,\n",
       "        1.140000e+00, 9.400000e+00, 5.700000e-01, 1.330000e+00,\n",
       "        5.500000e+02],\n",
       "       [1.229000e+01, 3.170000e+00, 2.210000e+00, 1.800000e+01,\n",
       "        8.800000e+01, 2.850000e+00, 2.990000e+00, 4.500000e-01,\n",
       "        2.810000e+00, 2.300000e+00, 1.420000e+00, 2.830000e+00,\n",
       "        4.060000e+02],\n",
       "       [1.181000e+01, 2.120000e+00, 2.740000e+00, 2.150000e+01,\n",
       "        1.340000e+02, 1.600000e+00, 9.900000e-01, 1.400000e-01,\n",
       "        1.560000e+00, 2.500000e+00, 9.500000e-01, 2.260000e+00,\n",
       "        6.250000e+02],\n",
       "       [1.208000e+01, 1.830000e+00, 2.320000e+00, 1.850000e+01,\n",
       "        8.100000e+01, 1.600000e+00, 1.500000e+00, 5.200000e-01,\n",
       "        1.640000e+00, 2.400000e+00, 1.080000e+00, 2.270000e+00,\n",
       "        4.800000e+02],\n",
       "       [1.247000e+01, 1.520000e+00, 2.200000e+00, 1.900000e+01,\n",
       "        1.620000e+02, 2.500000e+00, 2.270000e+00, 3.200000e-01,\n",
       "        3.280000e+00, 2.600000e+00, 1.160000e+00, 2.630000e+00,\n",
       "        9.370000e+02],\n",
       "       [1.251000e+01, 1.240000e+00, 2.250000e+00, 1.750000e+01,\n",
       "        8.500000e+01, 2.000000e+00, 5.800000e-01, 6.000000e-01,\n",
       "        1.250000e+00, 5.450000e+00, 7.500000e-01, 1.510000e+00,\n",
       "        6.500000e+02],\n",
       "       [1.237000e+01, 1.210000e+00, 2.560000e+00, 1.810000e+01,\n",
       "        9.800000e+01, 2.420000e+00, 2.650000e+00, 3.700000e-01,\n",
       "        2.080000e+00, 4.600000e+00, 1.190000e+00, 2.300000e+00,\n",
       "        6.780000e+02],\n",
       "       [1.277000e+01, 2.390000e+00, 2.280000e+00, 1.950000e+01,\n",
       "        8.600000e+01, 1.390000e+00, 5.100000e-01, 4.800000e-01,\n",
       "        6.400000e-01, 9.899999e+00, 5.700000e-01, 1.630000e+00,\n",
       "        4.700000e+02],\n",
       "       [1.373000e+01, 4.360000e+00, 2.260000e+00, 2.250000e+01,\n",
       "        8.800000e+01, 1.280000e+00, 4.700000e-01, 5.200000e-01,\n",
       "        1.150000e+00, 6.620000e+00, 7.800000e-01, 1.750000e+00,\n",
       "        5.200000e+02],\n",
       "       [1.340000e+01, 4.600000e+00, 2.860000e+00, 2.500000e+01,\n",
       "        1.120000e+02, 1.980000e+00, 9.600000e-01, 2.700000e-01,\n",
       "        1.110000e+00, 8.500000e+00, 6.700000e-01, 1.920000e+00,\n",
       "        6.300000e+02],\n",
       "       [1.363000e+01, 1.810000e+00, 2.700000e+00, 1.720000e+01,\n",
       "        1.120000e+02, 2.850000e+00, 2.910000e+00, 3.000000e-01,\n",
       "        1.460000e+00, 7.300000e+00, 1.280000e+00, 2.880000e+00,\n",
       "        1.310000e+03],\n",
       "       [1.316000e+01, 3.570000e+00, 2.150000e+00, 2.100000e+01,\n",
       "        1.020000e+02, 1.500000e+00, 5.500000e-01, 4.300000e-01,\n",
       "        1.300000e+00, 4.000000e+00, 6.000000e-01, 1.680000e+00,\n",
       "        8.300000e+02],\n",
       "       [1.406000e+01, 2.150000e+00, 2.610000e+00, 1.760000e+01,\n",
       "        1.210000e+02, 2.600000e+00, 2.510000e+00, 3.100000e-01,\n",
       "        1.250000e+00, 5.050000e+00, 1.060000e+00, 3.580000e+00,\n",
       "        1.295000e+03],\n",
       "       [1.184000e+01, 2.890000e+00, 2.230000e+00, 1.800000e+01,\n",
       "        1.120000e+02, 1.720000e+00, 1.320000e+00, 4.300000e-01,\n",
       "        9.500000e-01, 2.650000e+00, 9.600000e-01, 2.520000e+00,\n",
       "        5.000000e+02],\n",
       "       [1.341000e+01, 3.840000e+00, 2.120000e+00, 1.880000e+01,\n",
       "        9.000000e+01, 2.450000e+00, 2.680000e+00, 2.700000e-01,\n",
       "        1.480000e+00, 4.280000e+00, 9.100000e-01, 3.000000e+00,\n",
       "        1.035000e+03],\n",
       "       [1.350000e+01, 3.120000e+00, 2.620000e+00, 2.400000e+01,\n",
       "        1.230000e+02, 1.400000e+00, 1.570000e+00, 2.200000e-01,\n",
       "        1.250000e+00, 8.600000e+00, 5.900000e-01, 1.300000e+00,\n",
       "        5.000000e+02],\n",
       "       [1.368000e+01, 1.830000e+00, 2.360000e+00, 1.720000e+01,\n",
       "        1.040000e+02, 2.420000e+00, 2.690000e+00, 4.200000e-01,\n",
       "        1.970000e+00, 3.840000e+00, 1.230000e+00, 2.870000e+00,\n",
       "        9.900000e+02],\n",
       "       [1.277000e+01, 3.430000e+00, 1.980000e+00, 1.600000e+01,\n",
       "        8.000000e+01, 1.630000e+00, 1.250000e+00, 4.300000e-01,\n",
       "        8.300000e-01, 3.400000e+00, 7.000000e-01, 2.120000e+00,\n",
       "        3.720000e+02],\n",
       "       [1.269000e+01, 1.530000e+00, 2.260000e+00, 2.070000e+01,\n",
       "        8.000000e+01, 1.380000e+00, 1.460000e+00, 5.800000e-01,\n",
       "        1.620000e+00, 3.050000e+00, 9.600000e-01, 2.060000e+00,\n",
       "        4.950000e+02],\n",
       "       [1.356000e+01, 1.710000e+00, 2.310000e+00, 1.620000e+01,\n",
       "        1.170000e+02, 3.150000e+00, 3.290000e+00, 3.400000e-01,\n",
       "        2.340000e+00, 6.130000e+00, 9.500000e-01, 3.380000e+00,\n",
       "        7.950000e+02],\n",
       "       [1.320000e+01, 1.780000e+00, 2.140000e+00, 1.120000e+01,\n",
       "        1.000000e+02, 2.650000e+00, 2.760000e+00, 2.600000e-01,\n",
       "        1.280000e+00, 4.380000e+00, 1.050000e+00, 3.400000e+00,\n",
       "        1.050000e+03],\n",
       "       [1.166000e+01, 1.880000e+00, 1.920000e+00, 1.600000e+01,\n",
       "        9.700000e+01, 1.610000e+00, 1.570000e+00, 3.400000e-01,\n",
       "        1.150000e+00, 3.800000e+00, 1.230000e+00, 2.140000e+00,\n",
       "        4.280000e+02],\n",
       "       [1.208000e+01, 1.390000e+00, 2.500000e+00, 2.250000e+01,\n",
       "        8.400000e+01, 2.560000e+00, 2.290000e+00, 4.300000e-01,\n",
       "        1.040000e+00, 2.900000e+00, 9.300000e-01, 3.190000e+00,\n",
       "        3.850000e+02],\n",
       "       [1.217000e+01, 1.450000e+00, 2.530000e+00, 1.900000e+01,\n",
       "        1.040000e+02, 1.890000e+00, 1.750000e+00, 4.500000e-01,\n",
       "        1.030000e+00, 2.950000e+00, 1.450000e+00, 2.230000e+00,\n",
       "        3.550000e+02],\n",
       "       [1.296000e+01, 3.450000e+00, 2.350000e+00, 1.850000e+01,\n",
       "        1.060000e+02, 1.390000e+00, 7.000000e-01, 4.000000e-01,\n",
       "        9.400000e-01, 5.280000e+00, 6.800000e-01, 1.750000e+00,\n",
       "        6.750000e+02],\n",
       "       [1.287000e+01, 4.610000e+00, 2.480000e+00, 2.150000e+01,\n",
       "        8.600000e+01, 1.700000e+00, 6.500000e-01, 4.700000e-01,\n",
       "        8.600000e-01, 7.650000e+00, 5.400000e-01, 1.860000e+00,\n",
       "        6.250000e+02],\n",
       "       [1.221000e+01, 1.190000e+00, 1.750000e+00, 1.680000e+01,\n",
       "        1.510000e+02, 1.850000e+00, 1.280000e+00, 1.400000e-01,\n",
       "        2.500000e+00, 2.850000e+00, 1.280000e+00, 3.070000e+00,\n",
       "        7.180000e+02],\n",
       "       [1.339000e+01, 1.770000e+00, 2.620000e+00, 1.610000e+01,\n",
       "        9.300000e+01, 2.850000e+00, 2.940000e+00, 3.400000e-01,\n",
       "        1.450000e+00, 4.800000e+00, 9.200000e-01, 3.220000e+00,\n",
       "        1.195000e+03],\n",
       "       [1.229000e+01, 1.410000e+00, 1.980000e+00, 1.600000e+01,\n",
       "        8.500000e+01, 2.550000e+00, 2.500000e+00, 2.900000e-01,\n",
       "        1.770000e+00, 2.900000e+00, 1.230000e+00, 2.740000e+00,\n",
       "        4.280000e+02],\n",
       "       [1.388000e+01, 5.040000e+00, 2.230000e+00, 2.000000e+01,\n",
       "        8.000000e+01, 9.800000e-01, 3.400000e-01, 4.000000e-01,\n",
       "        6.800000e-01, 4.900000e+00, 5.800000e-01, 1.330000e+00,\n",
       "        4.150000e+02],\n",
       "       [1.279000e+01, 2.670000e+00, 2.480000e+00, 2.200000e+01,\n",
       "        1.120000e+02, 1.480000e+00, 1.360000e+00, 2.400000e-01,\n",
       "        1.260000e+00, 1.080000e+01, 4.800000e-01, 1.470000e+00,\n",
       "        4.800000e+02]])"
      ]
     },
     "execution_count": 122,
     "metadata": {},
     "output_type": "execute_result"
    }
   ],
   "source": [
    "x_test"
   ]
  },
  {
   "cell_type": "code",
   "execution_count": 123,
   "metadata": {},
   "outputs": [
    {
     "name": "stdout",
     "output_type": "stream",
     "text": [
      "[1 2 0 1 2 2 1 1 1 1 2 1 2 2 2 0 2 0 1 0 2 0 1 1 0 0 1 1 1 2 2 1 0 1 2 2]\n",
      "[1 2 0 0 1 1 1 1 1 0 2 1 2 2 2 0 2 0 1 0 1 0 1 1 0 0 1 1 1 2 2 1 0 1 2 1]\n"
     ]
    }
   ],
   "source": [
    "print(y_test)\n",
    "print(y_pre)"
   ]
  },
  {
   "cell_type": "code",
   "execution_count": 129,
   "metadata": {},
   "outputs": [
    {
     "data": {
      "text/plain": [
       "[<matplotlib.lines.Line2D at 0x28ad2844e20>]"
      ]
     },
     "execution_count": 129,
     "metadata": {},
     "output_type": "execute_result"
    },
    {
     "data": {
      "image/png": "[encoded data removed]",
      "text/plain": [
       "<Figure size 432x288 with 1 Axes>"
      ]
     },
     "metadata": {
      "needs_background": "light"
     },
     "output_type": "display_data"
    }
   ],
   "source": [
    "plt.plot(y_test)"
   ]
  },
  {
   "cell_type": "code",
   "execution_count": 130,
   "metadata": {},
   "outputs": [
    {
     "data": {
      "text/plain": [
       "[<matplotlib.lines.Line2D at 0x28ad29baeb0>]"
      ]
     },
     "execution_count": 130,
     "metadata": {},
     "output_type": "execute_result"
    },
    {
     "data": {
      "image/png": "[encoded data removed]",
      "text/plain": [
       "<Figure size 432x288 with 1 Axes>"
      ]
     },
     "metadata": {
      "needs_background": "light"
     },
     "output_type": "display_data"
    }
   ],
   "source": [
    "plt.plot(y_pre)"
   ]
  },
  {
   "cell_type": "code",
   "execution_count": 124,
   "metadata": {},
   "outputs": [
    {
     "data": {
      "text/plain": [
       "[<matplotlib.lines.Line2D at 0x28ad293c8b0>]"
      ]
     },
     "execution_count": 124,
     "metadata": {},
     "output_type": "execute_result"
    },
    {
     "data": {
      "image/png": "[encoded data removed]",
      "text/plain": [
       "<Figure size 432x288 with 1 Axes>"
      ]
     },
     "metadata": {
      "needs_background": "light"
     },
     "output_type": "display_data"
    }
   ],
   "source": [
    "plt.plot(y_test,y_pre)"
   ]
  },
  {
   "cell_type": "code",
   "execution_count": 125,
   "metadata": {},
   "outputs": [],
   "source": [
    "from sklearn.model_selection import cross_val_score"
   ]
  },
  {
   "cell_type": "code",
   "execution_count": 126,
   "metadata": {},
   "outputs": [
    {
     "data": {
      "text/plain": [
       "array([ 88.88888889,  77.77777778,  66.66666667,  83.33333333,\n",
       "        94.44444444,  94.44444444, 100.        ,  94.44444444,\n",
       "       100.        , 100.        ])"
      ]
     },
     "execution_count": 126,
     "metadata": {},
     "output_type": "execute_result"
    }
   ],
   "source": [
    "cross_val_score(clf, wine.data, wine.target, cv=10)*100"
   ]
  },
  {
   "cell_type": "code",
   "execution_count": 127,
   "metadata": {},
   "outputs": [],
   "source": [
    "from sklearn import tree"
   ]
  },
  {
   "cell_type": "code",
   "execution_count": 128,
   "metadata": {},
   "outputs": [
    {
     "name": "stdout",
     "output_type": "stream",
     "text": [
      "[Text(167.4, 181.2, 'X[6] <= 1.29\\nentropy = 1.558\\nsamples = 142\\nvalue = [51, 56, 35]'), Text(83.7, 108.72, 'X[9] <= 3.725\\nentropy = 0.477\\nsamples = 39\\nvalue = [0, 4, 35]'), Text(41.85, 36.23999999999998, 'entropy = 0.0\\nsamples = 4\\nvalue = [0, 4, 0]'), Text(125.55000000000001, 36.23999999999998, 'entropy = 0.0\\nsamples = 35\\nvalue = [0, 0, 35]'), Text(251.10000000000002, 108.72, 'X[12] <= 755.0\\nentropy = 1.0\\nsamples = 103\\nvalue = [51, 52, 0]'), Text(209.25, 36.23999999999998, 'entropy = 0.232\\nsamples = 53\\nvalue = [2, 51, 0]'), Text(292.95, 36.23999999999998, 'entropy = 0.141\\nsamples = 50\\nvalue = [49, 1, 0]')]\n"
     ]
    },
    {
     "data": {
      "image/png": "[encoded data removed]",
      "text/plain": [
       "<Figure size 432x288 with 1 Axes>"
      ]
     },
     "metadata": {
      "needs_background": "light"
     },
     "output_type": "display_data"
    }
   ],
   "source": [
    "print(tree.plot_tree(clf))"
   ]
  },
  {
   "cell_type": "code",
   "execution_count": null,
   "metadata": {},
   "outputs": [],
   "source": []
  }
 ],
 "metadata": {
  "kernelspec": {
   "display_name": "Python 3",
   "language": "python",
   "name": "python3"
  },
  "language_info": {
   "codemirror_mode": {
    "name": "ipython",
    "version": 3
   },
   "file_extension": ".py",
   "mimetype": "text/x-python",
   "name": "python",
   "nbconvert_exporter": "python",
   "pygments_lexer": "ipython3",
   "version": "3.8.3"
  }
 },
 "nbformat": 4,
 "nbformat_minor": 4
}
